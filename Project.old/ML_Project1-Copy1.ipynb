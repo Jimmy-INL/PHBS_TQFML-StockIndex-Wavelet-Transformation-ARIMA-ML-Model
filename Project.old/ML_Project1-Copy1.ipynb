{
 "cells": [
  {
   "cell_type": "code",
   "execution_count": 3,
   "metadata": {},
   "outputs": [
    {
     "name": "stderr",
     "output_type": "stream",
     "text": [
      "D:\\Software\\Anaconda\\lib\\site-packages\\statsmodels\\compat\\pandas.py:56: FutureWarning: The pandas.core.datetools module is deprecated and will be removed in a future version. Please use the pandas.tseries module instead.\n",
      "  from pandas.core import datetools\n"
     ]
    }
   ],
   "source": [
    "import numpy as np\n",
    "import pandas as pd\n",
    "import matplotlib.pyplot as plt\n",
    "from sklearn import svm\n",
    "import statsmodels.api as sm\n",
    "from scipy import  stats\n",
    "import pywt\n",
    "import copy\n",
    "import warnings\n",
    "from statsmodels.tsa.arima_model import ARMA\n",
    "from statsmodels.tsa.stattools import adfuller\n",
    "from sklearn.ensemble.gradient_boosting import GradientBoostingRegressor as GBR\n",
    "from sklearn.metrics import explained_variance_score, mean_absolute_error, mean_squared_error, r2_score\n",
    "from numpy.linalg import LinAlgError"
   ]
  },
  {
   "cell_type": "code",
   "execution_count": 4,
   "metadata": {
    "collapsed": true
   },
   "outputs": [],
   "source": [
    "df_HS300 = pd.read_csv('df_000300.csv', header=0, index_col=0, encoding='utf-8')\n",
    "df_ZZ500 = pd.read_csv('df_000905.csv', header=0, index_col=0, encoding='utf-8')"
   ]
  },
  {
   "cell_type": "code",
   "execution_count": 5,
   "metadata": {
    "collapsed": true
   },
   "outputs": [],
   "source": [
    "% matplotlib inline"
   ]
  },
  {
   "cell_type": "code",
   "execution_count": 6,
   "metadata": {
    "collapsed": true
   },
   "outputs": [],
   "source": [
    "def WT(index_list,wavefunc='db4',lv=4,m=1,n=4):   \n",
    "\n",
    "   \n",
    "   '''\n",
    "   index_list: input sequence; \n",
    "   \n",
    "   lv: decomposing level；\n",
    " \n",
    "   wavefunc: 小波函数；\n",
    "   m,n则选择了进行阈值处理的小波系数层数\n",
    "   \n",
    "   '''\n",
    "\n",
    "    # 分解\n",
    "    coeff = pywt.wavedec(index_list,wavefunc,mode='sym',level=lv)   # 按 level 层分解，使用pywt包进行计算， cAn是尺度系数 cDn为小波系数\n",
    "\n",
    "    sgn = lambda x: 1 if x > 0 else -1 if x < 0 else 0 # sgn函数\n",
    "\n",
    "    # 去噪过程\n",
    "    for i in range(m,n+1):   # 选取小波系数层数为 m~n层，尺度系数不需要处理\n",
    "        cD = coeff[i]\n",
    "        Tr = np.sqrt(2*np.log2(len(cD)))  # 计算阈值\n",
    "        for j in range(len(cD)):\n",
    "            if cD[j] >= Tr:\n",
    "                coeff[i][j] = sgn(cD[j]) * (np.abs(cD[j]) -  Tr)  # 向零收缩\n",
    "            else:\n",
    "                coeff[i][j] = 0   # 低于阈值置零b\n",
    "\n",
    "    # 重构\n",
    "    coeffs = {}\n",
    "    for i in range(len(coeff)):\n",
    "        coeffs[i] = copy.deepcopy(coeff)\n",
    "        for j in range(len(coeff)):\n",
    "            if j != i:\n",
    "                coeffs[i][j] = np.zeros_like(coeff[j])\n",
    "    \n",
    "    for i in range(len(coeff)):\n",
    "        coeff[i] = pywt.waverec(coeffs[i], wavefunc)\n",
    "            \n",
    "    #denoised_index = np.sum(coeff, axis=0)   \n",
    "\n",
    "    # 在原dataframe中添加处理后的列便于画图\n",
    "    #data = pd.DataFrame({'CLOSE': index_list, 'denoised': denoised_index})\n",
    "\n",
    "    # 画图\n",
    "    #data.plot(figsize=(10,10),subplots=(2,1))\n",
    "    #data.plot(figsize=(10,5))\n",
    "   \n",
    "    return coeff"
   ]
  },
  {
   "cell_type": "code",
   "execution_count": 7,
   "metadata": {
    "collapsed": true
   },
   "outputs": [],
   "source": [
    "def AR_MA(coeff):\n",
    "    warnings.filterwarnings('ignore')\n",
    "    order, model, results = [], [], []\n",
    "\n",
    "    for i in range(1, len(coeff)):\n",
    "        order.append(sm.tsa.arma_order_select_ic(coeff[i], ic='aic')['aic_min_order'])\n",
    "        model.append(ARMA(coeff[i], order=order[i-1]))\n",
    "    \n",
    "    for i in range(len(model)):\n",
    "        new_order = list(order[i])\n",
    "        while True:\n",
    "            try:\n",
    "                results.append(model[i].fit())\n",
    "                \n",
    "            except ValueError:\n",
    "                new_order[1] = np.max((0, new_order[1]-1))\n",
    "                model[i] = ARMA(coeff[i+1], order=new_order)\n",
    "\n",
    "            if len(results)>= i+1:\n",
    "                break                \n",
    "    \n",
    "    return results"
   ]
  },
  {
   "cell_type": "code",
   "execution_count": 8,
   "metadata": {
    "collapsed": true
   },
   "outputs": [],
   "source": [
    "def NonlinReg(coeff, features=4, interval=0, length=1):\n",
    "    X, Y = [], []\n",
    "    for i in range(len(coeff[0])):\n",
    "        if i+features+interval < len(coeff[0]):\n",
    "            X.append(coeff[0][i:i+features])\n",
    "            Y.append(coeff[0][i+features+interval])\n",
    "    X =  np.array(X)\n",
    "    Y =  np.array(Y)\n",
    "\n",
    "\n",
    "    gbr = GBR(learning_rate=0.1, n_estimators=80, max_depth=2).fit(X, Y)\n",
    "\n",
    "    X_ = copy.deepcopy(X)\n",
    "    Y_ = copy.deepcopy(Y)\n",
    "    for i in range(length):\n",
    "        X_ = np.concatenate((X_, np.array([np.concatenate((X_[-1][-features+1:], Y_[[-interval-1]]))])))\n",
    "        Y_ = np.concatenate((Y_, gbr.predict(X_[-1])))\n",
    "    \n",
    "    return Y_[-length:]"
   ]
  },
  {
   "cell_type": "code",
   "execution_count": 9,
   "metadata": {
    "collapsed": true
   },
   "outputs": [],
   "source": [
    "def ModelEvaluation(index_predict, index_real):    \n",
    "    model_metrics_name = [explained_variance_score, mean_absolute_error, mean_squared_error, r2_score]  # 回归评估指标对象集\n",
    "    model_metrics_list = []  # 回归评估指标列表\n",
    "    for m in model_metrics_name:  # 循环每个指标对象\n",
    "        tmp_score = m(index_predict, index_real)  # 计算每个回归指标结果\n",
    "        model_metrics_list.append(tmp_score)\n",
    "    df = pd.DataFrame(np.array([model_metrics_list]), index=['model'], columns=['ev', 'mae', 'mse', 'r2'])\n",
    "    return df"
   ]
  },
  {
   "cell_type": "code",
   "execution_count": 12,
   "metadata": {
    "collapsed": true
   },
   "outputs": [],
   "source": [
    "start_day = '2010-01-04'\n",
    "end_day = '2012-12-31'\n",
    "test = df_HS300.loc[start_day:end_day,:]\n",
    "test_C = test['CLOSE'] \n",
    "StockDate = df_HS300.loc['2013-01-01':'2013-01-20',:]\n",
    "test_lag = StockDate['CLOSE']"
   ]
  },
  {
   "cell_type": "code",
   "execution_count": 13,
   "metadata": {},
   "outputs": [
    {
     "name": "stderr",
     "output_type": "stream",
     "text": [
      "D:\\Software\\Anaconda\\lib\\site-packages\\ipykernel_launcher.py:13: FutureWarning: pd.rolling_mean is deprecated for DataFrame and will be removed in a future version, replace with \n",
      "\tDataFrame.rolling(window=3,center=False).mean()\n",
      "  del sys.path[0]\n",
      "D:\\Software\\Anaconda\\lib\\site-packages\\ipykernel_launcher.py:16: FutureWarning: pd.rolling_mean is deprecated for DataFrame and will be removed in a future version, replace with \n",
      "\tDataFrame.rolling(window=3,center=False).mean()\n",
      "  app.launch_new_instance()\n",
      "D:\\Software\\Anaconda\\lib\\site-packages\\sklearn\\utils\\validation.py:395: DeprecationWarning: Passing 1d arrays as data is deprecated in 0.17 and will raise ValueError in 0.19. Reshape your data either using X.reshape(-1, 1) if your data has a single feature or X.reshape(1, -1) if it contains a single sample.\n",
      "  DeprecationWarning)\n"
     ]
    }
   ],
   "source": [
    "timelen = 150\n",
    "length = 1\n",
    "index_predict, index_real = [], []\n",
    "for i in range(10):\n",
    "    test_ = test.iloc[i:i+timelen, :] \n",
    "    coeff_O = WT(test_.OPEN)\n",
    "    coeff_H = WT(test_.HIGH)\n",
    "    coeff_L = WT(test_.LOW)\n",
    "    coeff_C = WT(test_.CLOSE)\n",
    "    \n",
    "    test_coef0 = pd.DataFrame([coeff_O[0],coeff_H[0],coeff_L[0],coeff_C[0]]).T\n",
    "    window = 3\n",
    "    X = pd.rolling_mean(test_coef0, window).dropna().values[:-1,:]\n",
    "    Y = coeff_C[0][window:]\n",
    "    gbr = GBR(learning_rate=0.06, n_estimators=50, max_depth=3).fit(X,Y)\n",
    "    x = pd.rolling_mean(test_coef0, window).dropna().values[-1,:]\n",
    "    y = gbr.predict(x)\n",
    "    \n",
    "    results = AR_MA(coeff_C)\n",
    "    \n",
    "    D_series = []\n",
    "    for j in range(len(results)):\n",
    "        D_series.append(results[j].predict(timelen-1, timelen+length-1, dynamic=True))\n",
    "    \n",
    "    index_predict.append(y+np.sum(np.array(D_series)[:,-1], axis = 0))\n",
    "    index_real.append(test.CLOSE[i+timelen:i+timelen+length].values)    "
   ]
  },
  {
   "cell_type": "code",
   "execution_count": 18,
   "metadata": {
    "collapsed": true
   },
   "outputs": [],
   "source": [
    "index_real = []\n",
    "for i in range(10):\n",
    "    index_real.append(test.CLOSE[i+timelen:i+timelen+length].values) "
   ]
  },
  {
   "cell_type": "code",
   "execution_count": 21,
   "metadata": {},
   "outputs": [
    {
     "data": {
      "text/plain": [
       "[<matplotlib.lines.Line2D at 0x1f21b316a58>]"
      ]
     },
     "execution_count": 21,
     "metadata": {},
     "output_type": "execute_result"
    },
    {
     "data": {
      "image/png": "[encoded data removed]",
      "text/plain": [
       "<matplotlib.figure.Figure at 0x1f2190bb470>"
      ]
     },
     "metadata": {},
     "output_type": "display_data"
    }
   ],
   "source": [
    "plt.figure(figsize=(10,5))\n",
    "plt.subplot(1, 1, 1)\n",
    "plt.plot(index_predict, 'red')\n",
    "plt.plot(index_real, 'blue')"
   ]
  }
 ],
 "metadata": {
  "kernelspec": {
   "display_name": "Python 3",
   "language": "python",
   "name": "python3"
  },
  "language_info": {
   "codemirror_mode": {
    "name": "ipython",
    "version": 3
   },
   "file_extension": ".py",
   "mimetype": "text/x-python",
   "name": "python",
   "nbconvert_exporter": "python",
   "pygments_lexer": "ipython3",
   "version": "3.6.1"
  }
 },
 "nbformat": 4,
 "nbformat_minor": 2
}
